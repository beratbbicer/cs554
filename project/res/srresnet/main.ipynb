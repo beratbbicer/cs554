{
 "cells": [
  {
   "cell_type": "code",
   "execution_count": 8,
   "metadata": {},
   "outputs": [],
   "source": [
    "import time\n",
    "import torch\n",
    "from torch import nn\n",
    "import torch.backends.cudnn as cudnn\n",
    "from models import SRResNet\n",
    "from datasets import SRDataset\n",
    "from dataset import LowDataset\n",
    "from utils import *\n",
    "import matplotlib.pyplot as plt\n",
    "import numpy as np"
   ]
  },
  {
   "cell_type": "code",
   "execution_count": 9,
   "metadata": {},
   "outputs": [
    {
     "name": "stdout",
     "output_type": "stream",
     "text": [
      "cpu\n"
     ]
    }
   ],
   "source": [
    "# Data parameters\n",
    "data_folder = 'data'\n",
    "crop_size = 96  # crop size of target HR images\n",
    "scaling_factor = 2  # the scaling factor for the generator; the input LR images will be downsampled from the target HR images by this factor\n",
    "\n",
    "# Model parameters\n",
    "large_kernel_size = 9  # kernel size of the first and last convolutions which transform the inputs and outputs\n",
    "small_kernel_size = 3  # kernel size of all convolutions in-between, i.e. those in the residual and subpixel convolutional blocks\n",
    "n_channels = 64  # number of channels in-between, i.e. the input and output channels for the residual and subpixel convolutional blocks\n",
    "n_blocks = 16  # number of residual blocks\n",
    "\n",
    "# Learning parameters\n",
    "checkpoint = None  # path to model checkpoint, None if none\n",
    "batch_size = 16  # batch size\n",
    "start_epoch = 0  # start at this epoch\n",
    "iterations = 1e6  # number of training iterations\n",
    "workers = 4  # number of workers for loading data in the DataLoader\n",
    "print_freq = 1\n",
    "lr = 1e-4\n",
    "grad_clip = None\n",
    "\n",
    "device = torch.device(\"cuda\" if torch.cuda.is_available() else \"cpu\")\n",
    "print(device)\n",
    "\n",
    "cudnn.benchmark = True"
   ]
  },
  {
   "cell_type": "code",
   "execution_count": 10,
   "metadata": {},
   "outputs": [],
   "source": [
    "def train(train_loader, model, criterion, optimizer, epoch):\n",
    "    model.train()\n",
    "\n",
    "    batch_time = AverageMeter()\n",
    "    data_time = AverageMeter()\n",
    "    losses = AverageMeter()\n",
    "\n",
    "    start = time.time()\n",
    "    for i, (lr_imgs, hr_imgs) in enumerate(train_loader):\n",
    "        data_time.update(time.time() - start)\n",
    "\n",
    "        lr_imgs = lr_imgs.to(device)  # (batch_size (N), 3, 24, 24), imagenet-normed\n",
    "        hr_imgs = hr_imgs.to(device)  # (batch_size (N), 3, 96, 96), in [-1, 1]\n",
    "\n",
    "        sr_imgs = model(lr_imgs)  # (N, 3, 96, 96), in [-1, 1]\n",
    "        #plt.imshow(sr_imgs[0].detach().permute(1, 2, 0))\n",
    "        #plt.show()\n",
    "        loss = criterion(sr_imgs, hr_imgs)  # scalar\n",
    "\n",
    "        optimizer.zero_grad()\n",
    "        loss.backward()\n",
    "\n",
    "        if grad_clip is not None:\n",
    "            clip_gradient(optimizer, grad_clip)\n",
    "\n",
    "\n",
    "        optimizer.step()\n",
    "        losses.update(loss.item(), lr_imgs.size(0))\n",
    "\n",
    "        batch_time.update(time.time() - start)\n",
    "        start = time.time()\n",
    "\n",
    "        if i % print_freq == 0:\n",
    "            print('Epoch: [{0}][{1}/{2}]----'\n",
    "                  'Batch Time {batch_time.val:.3f} ({batch_time.avg:.3f})----'\n",
    "                  'Data Time {data_time.val:.3f} ({data_time.avg:.3f})----'\n",
    "                  'Loss {loss.val:.4f} ({loss.avg:.4f})'.format(epoch, i, len(train_loader),\n",
    "                                                                    batch_time=batch_time,\n",
    "                                                                    data_time=data_time, loss=losses))\n",
    "    del lr_imgs, hr_imgs, sr_imgs\n"
   ]
  },
  {
   "cell_type": "code",
   "execution_count": null,
   "metadata": {},
   "outputs": [
    {
     "name": "stdout",
     "output_type": "stream",
     "text": [
      "Epoch: [0][0/50]----Batch Time 13.558 (13.558)----Data Time 1.856 (1.856)----Loss 0.3650 (0.3650)\n",
      "Epoch: [0][1/50]----Batch Time 11.761 (12.659)----Data Time 0.001 (0.929)----Loss 0.2431 (0.3040)\n",
      "Epoch: [0][2/50]----Batch Time 12.449 (12.589)----Data Time 0.002 (0.620)----Loss 0.1384 (0.2488)\n",
      "Epoch: [0][3/50]----Batch Time 12.531 (12.575)----Data Time 0.001 (0.465)----Loss 0.0903 (0.2092)\n",
      "Epoch: [0][4/50]----Batch Time 11.611 (12.382)----Data Time 0.005 (0.373)----Loss 0.0543 (0.1782)\n",
      "Epoch: [0][5/50]----Batch Time 11.182 (12.182)----Data Time 0.001 (0.311)----Loss 0.0356 (0.1544)\n",
      "Epoch: [0][6/50]----Batch Time 11.458 (12.078)----Data Time 0.002 (0.267)----Loss 0.0324 (0.1370)\n",
      "Epoch: [0][7/50]----Batch Time 11.614 (12.020)----Data Time 0.002 (0.234)----Loss 0.0356 (0.1243)\n",
      "Epoch: [0][8/50]----Batch Time 11.555 (11.969)----Data Time 0.003 (0.208)----Loss 0.0327 (0.1142)\n",
      "Epoch: [0][9/50]----Batch Time 10.067 (11.779)----Data Time 0.002 (0.188)----Loss 0.0298 (0.1057)\n",
      "Epoch: [0][10/50]----Batch Time 10.514 (11.664)----Data Time 0.003 (0.171)----Loss 0.0250 (0.0984)\n",
      "Epoch: [0][11/50]----Batch Time 10.614 (11.576)----Data Time 0.003 (0.157)----Loss 0.0245 (0.0922)\n",
      "Epoch: [0][12/50]----Batch Time 10.236 (11.473)----Data Time 0.003 (0.145)----Loss 0.0242 (0.0870)\n",
      "Epoch: [0][13/50]----Batch Time 9.776 (11.352)----Data Time 0.002 (0.135)----Loss 0.0251 (0.0826)\n",
      "Epoch: [0][14/50]----Batch Time 10.462 (11.292)----Data Time 0.003 (0.126)----Loss 0.0356 (0.0794)\n",
      "Epoch: [0][15/50]----Batch Time 9.813 (11.200)----Data Time 0.003 (0.118)----Loss 0.0300 (0.0764)\n",
      "Epoch: [0][16/50]----Batch Time 9.836 (11.120)----Data Time 0.003 (0.111)----Loss 0.0235 (0.0732)\n",
      "Epoch: [0][17/50]----Batch Time 10.074 (11.062)----Data Time 0.002 (0.105)----Loss 0.0268 (0.0707)\n",
      "Epoch: [0][18/50]----Batch Time 9.906 (11.001)----Data Time 0.003 (0.100)----Loss 0.0220 (0.0681)\n",
      "Epoch: [0][19/50]----Batch Time 9.811 (10.941)----Data Time 0.003 (0.095)----Loss 0.0257 (0.0660)\n",
      "Epoch: [0][20/50]----Batch Time 10.080 (10.900)----Data Time 0.003 (0.091)----Loss 0.0190 (0.0637)\n",
      "Epoch: [0][21/50]----Batch Time 10.320 (10.874)----Data Time 0.003 (0.087)----Loss 0.0215 (0.0618)\n",
      "Epoch: [0][22/50]----Batch Time 10.170 (10.843)----Data Time 0.003 (0.083)----Loss 0.0204 (0.0600)\n",
      "Epoch: [0][23/50]----Batch Time 10.467 (10.828)----Data Time 0.003 (0.080)----Loss 0.0167 (0.0582)\n",
      "Epoch: [0][24/50]----Batch Time 9.978 (10.794)----Data Time 0.003 (0.077)----Loss 0.0161 (0.0565)\n",
      "Epoch: [0][25/50]----Batch Time 10.493 (10.782)----Data Time 0.003 (0.074)----Loss 0.0150 (0.0549)\n",
      "Epoch: [0][26/50]----Batch Time 10.356 (10.766)----Data Time 0.002 (0.071)----Loss 0.0157 (0.0535)\n",
      "Epoch: [0][27/50]----Batch Time 10.313 (10.750)----Data Time 0.003 (0.069)----Loss 0.0169 (0.0522)\n",
      "Epoch: [0][28/50]----Batch Time 10.113 (10.728)----Data Time 0.002 (0.066)----Loss 0.0141 (0.0509)\n",
      "Epoch: [0][29/50]----Batch Time 10.298 (10.714)----Data Time 0.002 (0.064)----Loss 0.0136 (0.0496)\n",
      "Epoch: [0][30/50]----Batch Time 10.371 (10.703)----Data Time 0.002 (0.062)----Loss 0.0136 (0.0485)\n",
      "Epoch: [0][31/50]----Batch Time 10.978 (10.711)----Data Time 0.003 (0.060)----Loss 0.0126 (0.0473)\n"
     ]
    }
   ],
   "source": [
    "def main():\n",
    "    global start_epoch, epoch, checkpoint\n",
    "\n",
    "    if checkpoint is None:\n",
    "        model = SRResNet(large_kernel_size=large_kernel_size, small_kernel_size=small_kernel_size,\n",
    "                         n_channels=n_channels, n_blocks=n_blocks, scaling_factor=scaling_factor)\n",
    "        optimizer = torch.optim.Adam(params=filter(lambda p: p.requires_grad, model.parameters()), lr=lr)\n",
    "    else:\n",
    "        checkpoint = torch.load(checkpoint)\n",
    "        start_epoch = checkpoint['epoch'] + 1\n",
    "        model = checkpoint['model']\n",
    "        optimizer = checkpoint['optimizer']\n",
    "\n",
    "    model = model.to(device)\n",
    "    criterion = nn.MSELoss().to(device)\n",
    "\n",
    "    \"\"\"train_dataset = SRDataset(data_folder, split='train', crop_size=crop_size, scaling_factor=scaling_factor,\n",
    "                              lr_img_type='imagenet-norm', hr_img_type='[-1, 1]')\"\"\"\n",
    "    train_dataset = LowDataset()\n",
    "    train_loader = torch.utils.data.DataLoader(train_dataset, batch_size=batch_size, shuffle=True, num_workers=workers, pin_memory=True)\n",
    "    epochs = int(iterations // len(train_loader) + 1)\n",
    "\n",
    "    for epoch in range(start_epoch, epochs):\n",
    "        train(train_loader=train_loader, model=model, criterion=criterion, optimizer=optimizer, epoch=epoch)\n",
    "        torch.save({'epoch': epoch, 'model': model, 'optimizer': optimizer}, 'checkpoint_srresnet.pth.tar')\n",
    "\n",
    "if __name__ == '__main__':\n",
    "    main()"
   ]
  },
  {
   "cell_type": "code",
   "execution_count": null,
   "metadata": {},
   "outputs": [],
   "source": []
  }
 ],
 "metadata": {
  "kernelspec": {
   "display_name": "Python 3",
   "language": "python",
   "name": "python3"
  },
  "language_info": {
   "codemirror_mode": {
    "name": "ipython",
    "version": 3
   },
   "file_extension": ".py",
   "mimetype": "text/x-python",
   "name": "python",
   "nbconvert_exporter": "python",
   "pygments_lexer": "ipython3",
   "version": "3.7.0"
  }
 },
 "nbformat": 4,
 "nbformat_minor": 4
}
